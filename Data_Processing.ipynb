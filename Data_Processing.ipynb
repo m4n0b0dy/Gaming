{
 "cells": [
  {
   "cell_type": "code",
   "execution_count": 1,
   "metadata": {},
   "outputs": [],
   "source": [
    "from demo import *\n",
    "from gaming_cleaner import *"
   ]
  },
  {
   "cell_type": "markdown",
   "metadata": {
    "colab_type": "text",
    "id": "Zf0JXPBU-Kys"
   },
   "source": [
    "# Goals"
   ]
  },
  {
   "cell_type": "markdown",
   "metadata": {
    "colab_type": "text",
    "id": "n15cvB9n6PWq"
   },
   "source": [
    "#Import and Prepare Data\n",
    "\n",
    "Note data sources and cite 2-3 dss\n",
    "think df is from vg chartz"
   ]
  },
  {
   "cell_type": "markdown",
   "metadata": {
    "colab_type": "text",
    "id": "Z5XCwG5K6ErQ"
   },
   "source": [
    "## Import Libraries and data"
   ]
  },
  {
   "cell_type": "markdown",
   "metadata": {
    "colab_type": "text",
    "id": "QiO_pOzX6eNt"
   },
   "source": [
    "### Video game ratings data\n",
    "\n",
    "Features are fairly straightforward, Sales is total copies sold\n"
   ]
  },
  {
   "cell_type": "code",
   "execution_count": 2,
   "metadata": {},
   "outputs": [
    {
     "data": {
      "text/plain": [
       "{'Super Smash Bros. Melee-:-GC': {'pos': '1',\n",
       "  'img_link': 'http://www.vgchartz.com//games/boxart/full_404087AmericaFrontccc.jpg',\n",
       "  'game_url': 'http://www.vgchartz.com//games/game.php?id=2291&region=All',\n",
       "  'console': 'GC',\n",
       "  'publisher': 'Nintendo',\n",
       "  'developer': 'HAL Laboratory',\n",
       "  'vg_score': 'N/A',\n",
       "  'critic_score': '9.2',\n",
       "  'user_score': 'N/A',\n",
       "  'shipped': '7.41m',\n",
       "  'sales': 'N/A',\n",
       "  'date': '02nd Dec 01'}}"
      ]
     },
     "execution_count": 2,
     "metadata": {},
     "output_type": "execute_result"
    }
   ],
   "source": [
    "t, _ = scrape_page('http://www.vgchartz.com/games/games.php?name=super+smash+bros.+melee&keyword=&console=&region=All&developer=&publisher=&goty_year=&genre=&boxart=Both&banner=Both&ownership=Both&showmultiplat=No&results=200&order=TotalSales&showtotalsales=0&showtotalsales=1&showpublisher=0&showpublisher=1&showvgchartzscore=0&showvgchartzscore=1&shownasales=0&showdeveloper=0&showdeveloper=1&showcriticscore=0&showcriticscore=1&showpalsales=0&showreleasedate=0&showreleasedate=1&showuserscore=0&showuserscore=1&showjapansales=0&showlastupdate=0&showothersales=0&showshipped=0&showshipped=1')\n",
    "t"
   ]
  },
  {
   "cell_type": "markdown",
   "metadata": {
    "colab_type": "text",
    "id": "FZtJCybP6g-k"
   },
   "source": [
    "### Video game cover images\n",
    "\n",
    "desc"
   ]
  },
  {
   "cell_type": "code",
   "execution_count": 3,
   "metadata": {
    "colab": {},
    "colab_type": "code",
    "id": "nznoRCGs6oK1"
   },
   "outputs": [
    {
     "data": {
      "image/png": "[encoded data removed]",
      "text/plain": [
       "<PIL.Image.Image image mode=L size=91x130 at 0x7F1A93343470>"
      ]
     },
     "metadata": {},
     "output_type": "display_data"
    },
    {
     "data": {
      "text/plain": [
       "array([[195, 152, 141, ...,  10,  10,  18],\n",
       "       [178, 117, 104, ...,   5,   6,  13],\n",
       "       [176, 112, 101, ...,   5,   5,   9],\n",
       "       ...,\n",
       "       [105, 107, 130, ...,  32,  34,  33],\n",
       "       [ 91,  98, 107, ...,  49,  46,  47],\n",
       "       [ 75,  75,  62, ...,  57,  52,  52]], dtype=uint8)"
      ]
     },
     "execution_count": 3,
     "metadata": {},
     "output_type": "execute_result"
    }
   ],
   "source": [
    "#what the img data look like\n",
    "url = 'http://www.vgchartz.com/games/boxart/full_404087AmericaFrontccc.jpg'\n",
    "response = requests.get(url)\n",
    "img = Image.open(BytesIO(response.content)).convert('L')\n",
    "display(img)\n",
    "np.array(img)"
   ]
  },
  {
   "cell_type": "markdown",
   "metadata": {
    "colab_type": "text",
    "id": "cViXxBT26g7p"
   },
   "source": [
    "### Video game summaries\n",
    "\n",
    "desc"
   ]
  },
  {
   "cell_type": "code",
   "execution_count": 4,
   "metadata": {
    "colab": {},
    "colab_type": "code",
    "id": "80v4v-fX6SI1"
   },
   "outputs": [
    {
     "data": {
      "text/plain": [
       "\"The All-Star brawl is on!\\r\\nNintendo's biggest stars are all here! Duke it out with Mario, Link, Donkey Kong, the Ice Climbers, and many more.\\r\\n\\r\\nThe craziest four-player fighting game of all time returns for a frantic, fun-filled Nintendo Gamecube melee! Pick a classic character and enter the frey.\\r\\nA brand-new Adventure mode takes you through classic side-scrolling worlds like the Mushroom Kingdom!\\r\\nChoose from over 20 stages and wage battles with tons of items, like Bob-ombs and the Super Scope.\\r\\nTons of custom options await, each with a wild twist. Try playing Giant Melee for a gargantuan clash!\\r\\nBattle through a new Coin match, fight for style points in Bonus mode, or stage a trournament with up to 64 players!\\r\\nUnlock cool game secrets! Take on Event Mode and fight through specific battle challenges.\\r\\nAs you play, collect nearly 300 detailed trophies of characters and items from throughout Nintendo's history.\\r\\n\\r\\n*Nintendo - back of box\""
      ]
     },
     "execution_count": 4,
     "metadata": {},
     "output_type": "execute_result"
    }
   ],
   "source": [
    "#what the text data look like\n",
    "pull_txt_sum('http://www.vgchartz.com/game/2291/super-smash-bros-melee/?region=All')"
   ]
  },
  {
   "cell_type": "markdown",
   "metadata": {
    "colab_type": "text",
    "id": "TH6rYyzz6STj"
   },
   "source": [
    "## Clean, explore, and prepapre/process data\n"
   ]
  },
  {
   "cell_type": "markdown",
   "metadata": {
    "colab_type": "text",
    "id": "z2ksdWtm6pRB"
   },
   "source": [
    "### Data cleaning (and saving)"
   ]
  },
  {
   "cell_type": "code",
   "execution_count": null,
   "metadata": {},
   "outputs": [],
   "source": [
    "#delete all current multi_batched data\n",
    "import os\n",
    "import glob\n",
    "pths = []\n",
    "chk = input('Sure? (y)')\n",
    "if chk == 'y':\n",
    "    pths=['dem','imgs','labels','names','text']\n",
    "for pth in pths:\n",
    "    files = glob.glob('data/'+pth+'/*.json')\n",
    "    tvtfiles = glob.glob('data/test-val/'+pth+'/*.json')\n",
    "    for f in files+tvtfiles:\n",
    "        os.remove(f)"
   ]
  },
  {
   "cell_type": "code",
   "execution_count": 3,
   "metadata": {},
   "outputs": [],
   "source": [
    "random.seed(42)\n",
    "with open('raw_dem/games_as_200_batches.json', 'rb') as f:\n",
    "    games_as_batches = json.load(f)"
   ]
  },
  {
   "cell_type": "code",
   "execution_count": 4,
   "metadata": {
    "colab": {},
    "colab_type": "code",
    "id": "_0t226zo6Bnu"
   },
   "outputs": [],
   "source": [
    "#random list that will be our test/val data\n",
    "ran_ls = random.sample(range(0,39), 10)\n",
    "#some stuff to store batches of games and keep track of place\n",
    "mega_batches = []\n",
    "multi_batch = {}\n",
    "num = 0\n",
    "size = 5\n",
    "org_btchs = []\n",
    "#for loading in text and image data\n",
    "for dex, batch in enumerate(games_as_batches):\n",
    "    multi_batch.update(batch)\n",
    "    org_btchs.append(dex)\n",
    "    #if we are at the specified new batch size or end of list, create a big batch and save\n",
    "    if (dex+1) % size == 0 or (dex+1) == len(games_as_batches):\n",
    "        #num not in ran_ls sets if the batch is in testing set\n",
    "        #make the big batch\n",
    "        big_batch = clean_batch(org_btchs, multi_batch, num, num not in ran_ls)\n",
    "        #save the demographic data, name, and labels\n",
    "        big_batch.save_data(['d','l','n'])\n",
    "        #delete demographic data and labels as they are now saved\n",
    "        big_batch.clear_data(['d'])\n",
    "        \n",
    "        #append it to our new list of mega batches\n",
    "        #at this point we are just appending a list of names in order to manage memory\n",
    "        mega_batches.append(big_batch)\n",
    "        \n",
    "        #increase number for saving name\n",
    "        #ready for next mega batch we make\n",
    "        num+=1\n",
    "        multi_batch = {}\n",
    "        org_btchs = []\n",
    "    \n",
    "#training data\n",
    "training = [b for b in mega_batches if b.train_data] \n",
    "#testing data\n",
    "testing = [b for b in mega_batches if not b.train_data]\n",
    "#clear some ram\n",
    "games_as_batches, multi_batch, mega_batches = None, None, None"
   ]
  },
  {
   "cell_type": "code",
   "execution_count": 7,
   "metadata": {},
   "outputs": [
    {
     "name": "stdout",
     "output_type": "stream",
     "text": [
      "Finished 1 in 29.1408 sec\n",
      "['models/img_ISPR2.joblib']\n",
      "Finished 11 in 363.9373 sec\n",
      "['models/img_ISPR2.joblib']\n",
      "Finished 21 in 708.465 sec\n",
      "['models/img_ISPR2.joblib']\n",
      "['models/img_ISPR2.joblib']\n",
      "img_ISPR2 made\n"
     ]
    }
   ],
   "source": [
    "#cleaning image data\n",
    "#make a Random Projection model to reduce dimensionality, more detail in library\n",
    "ISPR = SparseRandomProjection(n_components=100)\n",
    "#wrapper function to train decomposer with bathces\n",
    "ISPR = batch_train_decomposer('raw_imgs/', ISPR, [b.org_btchs for b in training], tr_img, 'img_ISPR')"
   ]
  },
  {
   "cell_type": "code",
   "execution_count": 13,
   "metadata": {},
   "outputs": [],
   "source": [
    "#now to actually reduce dimensionality and store image features\n",
    "for mega_batch in training:\n",
    "    mb_imgs = load_batches('raw_imgs/', mega_batch.org_btchs)\n",
    "    mega_batch.decompose_data(mb_imgs, ISPR, 'i', tr_img)\n",
    "    mega_batch.save_data(['i'])\n",
    "    mega_batch.clear_data(['i'])\n",
    "mb_igms = None\n",
    "#beyond dimensions being reduced, each batch is now only 1 mb"
   ]
  },
  {
   "cell_type": "code",
   "execution_count": 14,
   "metadata": {
    "colab": {},
    "colab_type": "code",
    "id": "-BuB55GNC2LA"
   },
   "outputs": [],
   "source": [
    "#cleaning text data, much easier but this is not an in depth approach\n",
    "#this is all the training batch numbers together, text is much less memory intensive\n",
    "all_training_btchs = [b for bs in training for b in bs.org_btchs]\n",
    "#this is all training text data after processing through tr_txt (eliminate stop words, punctuation, and stem words)\n",
    "all_text = {nm:tr_txt(t) for nm, t in load_batches('raw_text/', all_training_btchs).items()}"
   ]
  },
  {
   "cell_type": "code",
   "execution_count": 15,
   "metadata": {},
   "outputs": [
    {
     "data": {
      "text/plain": [
       "['models/txt_LDA2.joblib']"
      ]
     },
     "execution_count": 15,
     "metadata": {},
     "output_type": "execute_result"
    }
   ],
   "source": [
    "#vectorize data\n",
    "CNTV = CountVectorizer(min_df=2)\n",
    "#fit data to model to get word vectors as rows\n",
    "CNTV_data = CNTV.fit_transform(all_text.values())\n",
    "dump(CNTV, 'models/txt_CNTV.joblib')\n",
    "#fit the latent Dirichilet allocation\n",
    "LDA = LatentDirichletAllocation(n_components=100)\n",
    "LDA_data = LDA.fit(CNTV_data)\n",
    "dump(LDA, 'models/txt_LDA.joblib')"
   ]
  },
  {
   "cell_type": "code",
   "execution_count": 7,
   "metadata": {},
   "outputs": [],
   "source": [
    "#simple class to feed in both transforms at once\n",
    "class dual_mod():\n",
    "    def transform(d):\n",
    "        return LDA.transform(CNTV.transform(d))"
   ]
  },
  {
   "cell_type": "code",
   "execution_count": 17,
   "metadata": {},
   "outputs": [],
   "source": [
    "#now to actually reduce dimensionality and store text features    \n",
    "DM = dual_mod\n",
    "for mega_batch in training:\n",
    "    mb_txt = {nm:all_text[nm] for nm in mega_batch.nms}\n",
    "    mega_batch.decompose_data(mb_txt, DM, 't')\n",
    "    mega_batch.save_data(['t'])\n",
    "    mega_batch.clear_data(['t'])"
   ]
  },
  {
   "cell_type": "code",
   "execution_count": 5,
   "metadata": {},
   "outputs": [],
   "source": [
    "ISPR = load('models/img_ISPR.joblib')\n",
    "CNTV = load('models/txt_CNTV.joblib')\n",
    "LDA = load('models/txt_LDA.joblib')\n",
    "all_testing_btchs = [b for bs in testing for b in bs.org_btchs]\n",
    "all_text = {nm:tr_txt(t) for nm, t in load_batches('raw_text/', all_testing_btchs).items()}"
   ]
  },
  {
   "cell_type": "code",
   "execution_count": 8,
   "metadata": {},
   "outputs": [],
   "source": [
    "#same thing but on testing\n",
    "DM = dual_mod\n",
    "for mega_batch in testing:\n",
    "    #img first\n",
    "    mb_imgs = load_batches('raw_imgs/', mega_batch.org_btchs)\n",
    "    mega_batch.decompose_data(mb_imgs, ISPR, 'i', tr_img)\n",
    "    mega_batch.save_data(['i'])\n",
    "    mega_batch.clear_data(['i'])\n",
    "    mb_igms = None\n",
    "    mb_txt = {nm:all_text[nm] for nm in mega_batch.nms}\n",
    "    mega_batch.decompose_data(mb_txt, DM, 't')\n",
    "    mega_batch.save_data(['t'])\n",
    "    mega_batch.clear_data(['t'])"
   ]
  },
  {
   "cell_type": "markdown",
   "metadata": {},
   "source": [
    "### Saving Testing/Validating Sets"
   ]
  },
  {
   "cell_type": "code",
   "execution_count": 43,
   "metadata": {},
   "outputs": [],
   "source": [
    "import pandas as pd\n",
    "tid_cols = ['feat_'+str(i) for i in range(100)]+['name','label']\n",
    "ttd_cols = ['feat_'+str(i) for i in range(100)]+['name','label']\n",
    "tdd_cols = ['developer','score0','img_link','date','pos','console','link','publisher','score1','score2','name','label']"
   ]
  },
  {
   "cell_type": "code",
   "execution_count": 44,
   "metadata": {
    "colab": {},
    "colab_type": "code",
    "id": "-6ciOpbP8Fwb",
    "scrolled": false
   },
   "outputs": [],
   "source": [
    "#save everything to 3 big data sets\n",
    "train_img_df = pd.DataFrame(columns=tid_cols)\n",
    "train_txt_df = pd.DataFrame(columns=ttd_cols)\n",
    "train_dem_df = pd.DataFrame(columns=tdd_cols)\n",
    "\n",
    "for typ,df in {'imgs/img':train_img_df,'text/txt':train_txt_df,'dem/dem':train_dem_df}.items():\n",
    "    for mb in training:\n",
    "        with open('data/'+typ+'_batch_'+str(mb.btch_num)+'.json', 'rb') as f:\n",
    "            data = json.load(f)\n",
    "        data = np.append(data, [[n] for n in mb.nms], 1)\n",
    "        data = np.append(data, [[n] for n in mb.labels], 1).tolist()\n",
    "        pd_data = pd.DataFrame(data,columns=df.columns)\n",
    "        df = df.append(pd_data, ignore_index=True)\n",
    "    df.to_csv('train_'+typ[-3:]+'.csv')"
   ]
  },
  {
   "cell_type": "code",
   "execution_count": 46,
   "metadata": {},
   "outputs": [],
   "source": [
    "#and same for testing\n",
    "test_img_df = pd.DataFrame(columns=tid_cols)\n",
    "test_txt_df = pd.DataFrame(columns=ttd_cols)\n",
    "test_dem_df = pd.DataFrame(columns=tdd_cols)\n",
    "\n",
    "for typ,df in {'imgs/img':test_img_df,'text/txt':test_txt_df,'dem/dem':test_dem_df}.items():\n",
    "    for mb in testing:\n",
    "        with open('data/test-val/'+typ+'_batch_'+str(mb.btch_num)+'.json', 'rb') as f:\n",
    "            data = json.load(f)\n",
    "        data = np.append(data, [[n] for n in mb.nms], 1)\n",
    "        data = np.append(data, [[n] for n in mb.labels], 1).tolist()\n",
    "        pd_data = pd.DataFrame(data,columns=df.columns)\n",
    "        df = df.append(pd_data, ignore_index=True)\n",
    "    df.to_csv('test_'+typ[-3:]+'.csv')"
   ]
  },
  {
   "cell_type": "code",
   "execution_count": null,
   "metadata": {},
   "outputs": [],
   "source": [
    "#other notes\n",
    "#stochstic gradient descent is trainig on batches and updating weights each time we ahve to use this\n",
    "#https://scikit-learn.org/stable/modules/generated/sklearn.linear_model.SGDRegressor.html#sklearn.linear_model.SGDRegressor\n",
    "#batch gradietn descent is training on all data at once\n",
    "#https://scikit-learn.org/stable/modules/generated/sklearn.random_projection.SparseRandomProjection.html\n",
    "#highly specialized function to hpyer param cv train NNS with tf.estimators\n",
    "#things to CV, learning rate (three), otpimizer (two), activation function (maybe two), "
   ]
  }
 ],
 "metadata": {
  "colab": {
   "collapsed_sections": [],
   "name": "Predicting Game Sales",
   "provenance": [],
   "version": "0.3.2"
  },
  "kernelspec": {
   "display_name": "Python 3",
   "language": "python",
   "name": "python3"
  },
  "language_info": {
   "codemirror_mode": {
    "name": "ipython",
    "version": 3
   },
   "file_extension": ".py",
   "mimetype": "text/x-python",
   "name": "python",
   "nbconvert_exporter": "python",
   "pygments_lexer": "ipython3",
   "version": "3.7.3"
  }
 },
 "nbformat": 4,
 "nbformat_minor": 1
}
