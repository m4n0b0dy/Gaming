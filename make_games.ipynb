{
 "cells": [
  {
   "cell_type": "code",
   "execution_count": 2,
   "metadata": {
    "collapsed": true
   },
   "outputs": [],
   "source": [
    "from vg_process import *"
   ]
  },
  {
   "cell_type": "code",
   "execution_count": null,
   "metadata": {
    "collapsed": true
   },
   "outputs": [],
   "source": [
    "with open('games.pickle', 'rb') as h:\n",
    "    games = pickle.load(h)"
   ]
  },
  {
   "cell_type": "code",
   "execution_count": null,
   "metadata": {},
   "outputs": [
    {
     "name": "stdout",
     "output_type": "stream",
     "text": [
      "Page#: 0 of 55485 - 0.0 seconds - Scraped:0, Failed:0\n"
     ]
    }
   ],
   "source": [
    "#make game, scrape pics and summary\n",
    "game_objs = {}\n",
    "bads = []\n",
    "dex = 0\n",
    "all_games = len(games)\n",
    "start_time = time.time()\n",
    "for nm, ats in games.items():\n",
    "    if dex % 500 ==0:\n",
    "        print(\"Page#: %s of %s - %s seconds - Scraped:%s, Failed:%s\" % (dex,all_games,round(time.time() - start_time,4),len(game_objs),len(bads)))\n",
    "        save_dic('game_objects')\n",
    "    try:\n",
    "        game_obj = game(nm,ats['critic_score'],ats['date'],ats['developer'],ats['game_url'],ats['pos'],ats['publisher'],\n",
    "                       ats['sales'].replace('m',''),ats['shipped'].replace('m',''),ats['user_score'],ats['vg_score'])\n",
    "        game_obj.pull_pic(ats['img_link'])\n",
    "        game_obj.pull_summary()\n",
    "        game_objs[nm] = game_obj\n",
    "    except Exception as e:\n",
    "        print(nm,' ',e)\n",
    "        bads.append(nm)\n",
    "    dex +=1\n",
    "    time.sleep(.0000001)"
   ]
  },
  {
   "cell_type": "code",
   "execution_count": null,
   "metadata": {
    "collapsed": true
   },
   "outputs": [],
   "source": []
  }
 ],
 "metadata": {
  "kernelspec": {
   "display_name": "Python 3",
   "language": "python",
   "name": "python3"
  },
  "language_info": {
   "codemirror_mode": {
    "name": "ipython",
    "version": 3
   },
   "file_extension": ".py",
   "mimetype": "text/x-python",
   "name": "python",
   "nbconvert_exporter": "python",
   "pygments_lexer": "ipython3",
   "version": "3.6.3"
  }
 },
 "nbformat": 4,
 "nbformat_minor": 2
}
