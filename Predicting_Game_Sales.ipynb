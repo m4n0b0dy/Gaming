{
 "cells": [
  {
   "cell_type": "markdown",
   "metadata": {
    "colab_type": "text",
    "id": "Zf0JXPBU-Kys"
   },
   "source": [
    "# Goals"
   ]
  },
  {
   "cell_type": "markdown",
   "metadata": {
    "colab_type": "text",
    "id": "n15cvB9n6PWq"
   },
   "source": [
    "#Import and Prepare Data\n",
    "\n",
    "Note data sources and cite 2-3 dss\n",
    "think df is from vg chartz"
   ]
  },
  {
   "cell_type": "markdown",
   "metadata": {
    "colab_type": "text",
    "id": "Z5XCwG5K6ErQ"
   },
   "source": [
    "## Load Data (continuing from end of Data_Processing.ipynb)"
   ]
  },
  {
   "cell_type": "markdown",
   "metadata": {
    "colab_type": "text",
    "id": "t6oEogNH7Esp"
   },
   "source": [
    "### Basic data exploration"
   ]
  },
  {
   "cell_type": "code",
   "execution_count": 0,
   "metadata": {
    "colab": {},
    "colab_type": "code",
    "id": "Iw3PlpcW7RGW"
   },
   "outputs": [],
   "source": [
    "#corr plot for df"
   ]
  },
  {
   "cell_type": "code",
   "execution_count": 0,
   "metadata": {
    "colab": {},
    "colab_type": "code",
    "id": "0iNpHTYW8oQl"
   },
   "outputs": [],
   "source": [
    "#explarotry for language data"
   ]
  },
  {
   "cell_type": "code",
   "execution_count": 0,
   "metadata": {
    "colab": {},
    "colab_type": "code",
    "id": "WP8orTyP8oNl"
   },
   "outputs": [],
   "source": [
    "#are there good exploratory methods for image based?"
   ]
  },
  {
   "cell_type": "markdown",
   "metadata": {
    "colab_type": "text",
    "id": "o048QwMW_kkC"
   },
   "source": [
    "# Predicting Global sales performance with each data source\n",
    "\n",
    "short writeup"
   ]
  },
  {
   "cell_type": "markdown",
   "metadata": {
    "colab_type": "text",
    "id": "m_LqFK_49oGV"
   },
   "source": [
    "## Linear Regression and Support Vector Regression\n",
    "\n",
    "Out of the box description"
   ]
  },
  {
   "cell_type": "markdown",
   "metadata": {
    "colab_type": "text",
    "id": "ChFpq4eG-eRR"
   },
   "source": [
    "### Linear Regression"
   ]
  },
  {
   "cell_type": "code",
   "execution_count": 0,
   "metadata": {
    "colab": {},
    "colab_type": "code",
    "id": "u_1f-6xT-kJg"
   },
   "outputs": [],
   "source": [
    "#trained on df with cv for all"
   ]
  },
  {
   "cell_type": "code",
   "execution_count": 0,
   "metadata": {
    "colab": {},
    "colab_type": "code",
    "id": "mdPcyoOF_RLy"
   },
   "outputs": [],
   "source": [
    "#trained on NLP"
   ]
  },
  {
   "cell_type": "code",
   "execution_count": 0,
   "metadata": {
    "colab": {},
    "colab_type": "code",
    "id": "BSTlxS7f_RIZ"
   },
   "outputs": [],
   "source": [
    "#trained on IMG"
   ]
  },
  {
   "cell_type": "markdown",
   "metadata": {
    "colab_type": "text",
    "id": "QeTKIpsk-D8k"
   },
   "source": [
    "### SVR"
   ]
  },
  {
   "cell_type": "code",
   "execution_count": 0,
   "metadata": {
    "colab": {},
    "colab_type": "code",
    "id": "BsuKBrL19CKA"
   },
   "outputs": [],
   "source": [
    "#trained on DF"
   ]
  },
  {
   "cell_type": "code",
   "execution_count": 0,
   "metadata": {
    "colab": {},
    "colab_type": "code",
    "id": "lPSqvBgD-aDv"
   },
   "outputs": [],
   "source": [
    "#trained on NLP"
   ]
  },
  {
   "cell_type": "code",
   "execution_count": 0,
   "metadata": {
    "colab": {},
    "colab_type": "code",
    "id": "q07iomJK-bIu"
   },
   "outputs": [],
   "source": [
    "#trained on IMG"
   ]
  },
  {
   "cell_type": "markdown",
   "metadata": {
    "colab_type": "text",
    "id": "1CoL_0BX_vUZ"
   },
   "source": [
    "## Simple Nueral Network\n",
    "\n",
    "Description"
   ]
  },
  {
   "cell_type": "code",
   "execution_count": 0,
   "metadata": {
    "colab": {},
    "colab_type": "code",
    "id": "hwUaBYBw_ueg"
   },
   "outputs": [],
   "source": [
    "#network architecutre"
   ]
  },
  {
   "cell_type": "code",
   "execution_count": 0,
   "metadata": {
    "colab": {},
    "colab_type": "code",
    "id": "fkeUmhX8_4s1"
   },
   "outputs": [],
   "source": [
    "#trained on df"
   ]
  },
  {
   "cell_type": "code",
   "execution_count": 0,
   "metadata": {
    "colab": {},
    "colab_type": "code",
    "id": "8EQmBqni_4s6"
   },
   "outputs": [],
   "source": [
    "#trained on NLP"
   ]
  },
  {
   "cell_type": "code",
   "execution_count": 0,
   "metadata": {
    "colab": {},
    "colab_type": "code",
    "id": "Io_epzpk_4s-"
   },
   "outputs": [],
   "source": [
    "#trained on IMG"
   ]
  },
  {
   "cell_type": "markdown",
   "metadata": {
    "colab_type": "text",
    "id": "UPG_4ywnADrt"
   },
   "source": [
    "## Cross Validated Neural Networks with PySpark\n",
    "\n",
    "Description, features cross validated"
   ]
  },
  {
   "cell_type": "code",
   "execution_count": 0,
   "metadata": {
    "colab": {},
    "colab_type": "code",
    "id": "dYNpDXXZACxs"
   },
   "outputs": [],
   "source": [
    "#architecture\n",
    "#complex stuff can also use basic write up describing under the hood"
   ]
  },
  {
   "cell_type": "code",
   "execution_count": 0,
   "metadata": {
    "colab": {},
    "colab_type": "code",
    "id": "8FEGLZ-wAMo6"
   },
   "outputs": [],
   "source": [
    "#trained on df"
   ]
  },
  {
   "cell_type": "code",
   "execution_count": 0,
   "metadata": {
    "colab": {},
    "colab_type": "code",
    "id": "sTOFcXxeAMpD"
   },
   "outputs": [],
   "source": [
    "#trained on NLP"
   ]
  },
  {
   "cell_type": "code",
   "execution_count": 0,
   "metadata": {
    "colab": {},
    "colab_type": "code",
    "id": "CWs4Kil8AMpG"
   },
   "outputs": [],
   "source": [
    "#trained on IMG"
   ]
  },
  {
   "cell_type": "markdown",
   "metadata": {
    "colab_type": "text",
    "id": "8o_6b52cFrQu"
   },
   "source": [
    "# Concluding Thoughts"
   ]
  },
  {
   "cell_type": "code",
   "execution_count": 0,
   "metadata": {
    "colab": {},
    "colab_type": "code",
    "id": "-hHsK1IhFsfb"
   },
   "outputs": [],
   "source": []
  }
 ],
 "metadata": {
  "colab": {
   "collapsed_sections": [],
   "name": "Predicting Game Sales",
   "provenance": [],
   "version": "0.3.2"
  },
  "kernelspec": {
   "display_name": "Python 3",
   "language": "python",
   "name": "python3"
  },
  "language_info": {
   "codemirror_mode": {
    "name": "ipython",
    "version": 3
   },
   "file_extension": ".py",
   "mimetype": "text/x-python",
   "name": "python",
   "nbconvert_exporter": "python",
   "pygments_lexer": "ipython3",
   "version": "3.7.3"
  }
 },
 "nbformat": 4,
 "nbformat_minor": 1
}
